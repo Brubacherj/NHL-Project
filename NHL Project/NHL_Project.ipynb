{
 "cells": [
  {
   "cell_type": "code",
   "execution_count": 34,
   "metadata": {},
   "outputs": [
    {
     "name": "stdout",
     "output_type": "stream",
     "text": [
      "('Ryan Donato', 'CHI', 'C', 26, 10, 5, 15, -2, 6, 66, 1, 1, 2, 0, 0, 49, 5)\n",
      "('Nick Foligno', 'CHI', 'LW', 28, 7, 4, 11, -10, 13, 41, 1, 2, 1, 0, 0, 81, 13)\n",
      "('Craig Smith', 'CHI', 'RW', 25, 6, 4, 10, -2, 18, 47, 1, 1, 0, 0, 0, 18, 15)\n",
      "('Teuvo Teravainen', 'CHI', 'LW', 28, 6, 7, 13, -14, 4, 51, 0, 4, 5, 0, 0, 3, 14)\n",
      "('Taylor Hall', 'CHI', 'LW', 27, 6, 6, 12, -11, 10, 51, 1, 0, 2, 0, 0, 17, 20)\n",
      "('Tyler Bertuzzi', 'CHI', 'LW', 28, 6, 5, 11, -13, 8, 43, 0, 3, 2, 0, 0, 22, 14)\n",
      "('Connor Bedard', 'CHI', 'C', 28, 5, 16, 21, -12, 12, 69, 2, 2, 9, 0, 0, 11, 19)\n",
      "('Jason Dickinson', 'CHI', 'C', 28, 5, 5, 10, -1, 12, 27, 0, 0, 0, 0, 0, 43, 24)\n",
      "('Lukas Reichel', 'CHI', 'RW', 24, 3, 6, 9, -3, 4, 38, 0, 0, 1, 0, 0, 9, 13)\n",
      "('Philipp Kurashev', 'CHI', 'LW', 25, 3, 2, 5, -22, 10, 28, 1, 1, 0, 0, 0, 13, 11)\n",
      "('Seth Jones', 'CHI', 'D', 17, 2, 8, 10, -5, 8, 38, 1, 2, 3, 0, 0, 22, 34)\n",
      "('Alex Vlasic', 'CHI', 'D', 28, 2, 10, 12, -9, 2, 43, 0, 1, 6, 0, 0, 19, 64)\n",
      "('Ilya Mikheyev', 'CHI', 'RW', 26, 2, 4, 6, 1, 6, 37, 0, 0, 0, 0, 0, 10, 5)\n",
      "('Isaak Phillips', 'CHI', 'D', 3, 1, 0, 1, 0, 0, 3, 0, 0, 0, 0, 0, 3, 4)\n",
      "('Louis Crevier', 'CHI', 'D', 4, 1, 0, 1, -2, 0, 3, 0, 0, 0, 0, 0, 5, 7)\n",
      "('Alec Martinez', 'CHI', 'D', 15, 1, 3, 4, -7, 0, 15, 0, 0, 1, 0, 0, 4, 38)\n",
      "('Patrick Maroon', 'CHI', 'LW', 25, 1, 7, 8, -1, 28, 23, 0, 0, 0, 0, 0, 47, 3)\n",
      "('Connor Murphy', 'CHI', 'D', 28, 0, 10, 10, 0, 32, 28, 0, 0, 0, 0, 0, 43, 67)\n",
      "('Andreas Athanasiou', 'CHI', 'C', 5, 0, 0, 0, -1, 0, 6, 0, 0, 0, 0, 0, 5, 4)\n",
      "('T.J. Brodie', 'CHI', 'D', 25, 0, 5, 5, -7, 6, 11, 0, 0, 0, 0, 0, 8, 33)\n",
      "('Joey Anderson', 'CHI', 'RW', 13, 0, 1, 1, 0, 0, 14, 0, 0, 0, 0, 0, 9, 9)\n",
      "('Nolan Allan', 'CHI', 'D', 21, 0, 4, 4, -4, 10, 8, 0, 0, 0, 0, 0, 20, 16)\n",
      "('Kevin Korchinski', 'CHI', 'D', 1, 0, 0, 0, 0, 0, 2, 0, 0, 0, 0, 0, 0, 1)\n",
      "('Wyatt Kaiser', 'CHI', 'D', 26, 0, 1, 1, -1, 14, 29, 0, 0, 0, 0, 0, 33, 46)\n"
     ]
    }
   ],
   "source": [
    "#This block of code will read the data in the csv file to the respective df. After checking there are no null values in the data and the data is formatted properly, both dfs will be transformed to SQL for querying using SQLite3.\n",
    "import pandas as pd\n",
    "import sqlite3 as sq3\n",
    "\n",
    "goalie_df = pd.read_csv('Goalie NHL Stats.csv', header=1)\n",
    "player_df = pd.read_csv('Player NHL stats.csv', header = 1)\n",
    "\n",
    "goalie_df.isnull().sum()\n",
    "player_df.isnull().sum()\n",
    "\n",
    "\n",
    "goalie_df['MIN'] = pd.to_numeric(goalie_df['MIN'], errors= 'coerce')\n",
    "goalie_df.dtypes\n",
    "player_df.dtypes\n",
    "\n",
    "#create sqlite database and cursor\n",
    "conn = sq3.connect('test.db')\n",
    "cursor = conn.cursor()\n",
    "\n",
    "goalie_df.to_sql('Goalie_Stats', conn, if_exists='replace', index=False)\n",
    "player_df.to_sql('Player_Stats', conn, if_exists='replace', index=False)\n",
    "\n",
    "cursor.execute( \"SELECT * FROM Player_Stats WHERE Team = 'CHI'\")\n",
    "Chicago_Players = cursor.fetchall()\n",
    "for row in Chicago_Players:\n",
    "    print(row)\n",
    "conn.close()"
   ]
  },
  {
   "cell_type": "code",
   "execution_count": null,
   "metadata": {},
   "outputs": [],
   "source": []
  }
 ],
 "metadata": {
  "kernelspec": {
   "display_name": "RP_Env",
   "language": "python",
   "name": "python3"
  },
  "language_info": {
   "codemirror_mode": {
    "name": "ipython",
    "version": 3
   },
   "file_extension": ".py",
   "mimetype": "text/x-python",
   "name": "python",
   "nbconvert_exporter": "python",
   "pygments_lexer": "ipython3",
   "version": "3.12.4"
  }
 },
 "nbformat": 4,
 "nbformat_minor": 2
}
