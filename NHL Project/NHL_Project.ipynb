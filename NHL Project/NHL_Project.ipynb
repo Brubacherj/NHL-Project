{
 "cells": [
  {
   "cell_type": "code",
   "execution_count": 32,
   "metadata": {},
   "outputs": [],
   "source": [
    "#This block of code will read the data in the csv file to the respective df. After checking there are no null values in the data and the data is formatted properly, both dfs will be transformed to SQL for querying using SQLite3.\n",
    "import pandas as pd\n",
    "import sqlite3 as sq3\n",
    "\n",
    "goalie_df = pd.read_csv('Goalie NHL Stats.csv', header=1)\n",
    "player_df = pd.read_csv('Player NHL stats.csv', header = 1)\n",
    "\n",
    "goalie_df.isnull().sum()\n",
    "player_df.isnull().sum()\n",
    "\n",
    "\n",
    "goalie_df['MIN'] = pd.to_numeric(goalie_df['MIN'], errors= 'coerce')\n",
    "goalie_df.dtypes\n",
    "player_df.dtypes\n",
    "\n",
    "#create sqlite database and cursor\n",
    "conn = sq3.connect('test.db')\n",
    "cursor = conn.cursor()\n",
    "\n",
    "goalie_df.to_sql('Goalie_Stats', conn, if_exists='replace', index=False)\n",
    "player_df.to_sql('Player_Stats', conn, if_exists='replace', index=False)\n",
    "\n",
    "conn.close()"
   ]
  },
  {
   "cell_type": "code",
   "execution_count": null,
   "metadata": {},
   "outputs": [],
   "source": []
  }
 ],
 "metadata": {
  "kernelspec": {
   "display_name": "RP_Env",
   "language": "python",
   "name": "python3"
  },
  "language_info": {
   "codemirror_mode": {
    "name": "ipython",
    "version": 3
   },
   "file_extension": ".py",
   "mimetype": "text/x-python",
   "name": "python",
   "nbconvert_exporter": "python",
   "pygments_lexer": "ipython3",
   "version": "3.12.4"
  }
 },
 "nbformat": 4,
 "nbformat_minor": 2
}
