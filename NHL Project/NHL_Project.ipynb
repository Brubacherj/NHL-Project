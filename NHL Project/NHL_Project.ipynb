{
 "cells": [
  {
   "cell_type": "code",
   "execution_count": 24,
   "metadata": {},
   "outputs": [
    {
     "data": {
      "text/plain": [
       "Player Name    object\n",
       "Team           object\n",
       "Pos            object\n",
       "Games           int64\n",
       "G               int64\n",
       "A               int64\n",
       "Pts             int64\n",
       "+/-             int64\n",
       "PIM             int64\n",
       "SOG             int64\n",
       "GWG             int64\n",
       "G.1             int64\n",
       "A.1             int64\n",
       "G.2             int64\n",
       "A.2             int64\n",
       "Hits            int64\n",
       "BS              int64\n",
       "dtype: object"
      ]
     },
     "execution_count": 24,
     "metadata": {},
     "output_type": "execute_result"
    }
   ],
   "source": [
    "#This block of code will read the data in the csv file to the respective df. After checking there are no null values in the data and the data is formatted properly, both dfs will be transformed to SQL for querying using SQLite3.\n",
    "import pandas as pd\n",
    "\n",
    "goalie_df = pd.read_csv('Goalie NHL Stats.csv', header=1)\n",
    "player_df = pd.read_csv('Player NHL stats.csv', header = 1)\n",
    "\n",
    "goalie_df.isnull().sum()\n",
    "player_df.isnull().sum()\n",
    "\n",
    "\n",
    "goalie_df['MIN'] = pd.to_numeric(goalie_df['MIN'], errors= 'coerce')\n",
    "goalie_df.dtypes\n",
    "player_df.dtypes"
   ]
  },
  {
   "cell_type": "code",
   "execution_count": null,
   "metadata": {},
   "outputs": [],
   "source": []
  }
 ],
 "metadata": {
  "kernelspec": {
   "display_name": "RP_Env",
   "language": "python",
   "name": "python3"
  },
  "language_info": {
   "codemirror_mode": {
    "name": "ipython",
    "version": 3
   },
   "file_extension": ".py",
   "mimetype": "text/x-python",
   "name": "python",
   "nbconvert_exporter": "python",
   "pygments_lexer": "ipython3",
   "version": "3.12.4"
  }
 },
 "nbformat": 4,
 "nbformat_minor": 2
}
